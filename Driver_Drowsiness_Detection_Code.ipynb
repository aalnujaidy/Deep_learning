{
 "cells": [
  {
   "cell_type": "code",
   "execution_count": 14,
   "id": "b0c40a3f",
   "metadata": {},
   "outputs": [],
   "source": [
    "import os\n",
    "from keras.preprocessing import image\n",
    "import matplotlib.pyplot as plt \n",
    "import numpy as np\n",
    "from keras.utils.np_utils import to_categorical\n",
    "import random,shutil\n",
    "from keras.models import Sequential\n",
    "from keras.layers import Dropout,Conv2D,Flatten,Dense, MaxPooling2D, BatchNormalization\n",
    "from keras.models import load_model\n"
   ]
  },
  {
   "cell_type": "code",
   "execution_count": 15,
   "id": "46f1a622",
   "metadata": {},
   "outputs": [
    {
     "name": "stdout",
     "output_type": "stream",
     "text": [
      "Found 1234 images belonging to 2 classes.\n",
      "Found 218 images belonging to 2 classes.\n",
      "38 6\n"
     ]
    }
   ],
   "source": [
    "# A generator is created for image augmentation. This helps in increasing the data and also helps making the model more robust\n",
    "def generator(dir, gen=image.ImageDataGenerator(rescale=1./255), shuffle=True,batch_size=1,target_size=(24,24),class_mode='categorical' ):\n",
    "\n",
    "    return gen.flow_from_directory(dir,batch_size=batch_size,shuffle=shuffle,color_mode='grayscale',class_mode=class_mode,target_size=target_size)\n",
    "\n",
    "BS= 32 #Batch_Size\n",
    "TS=(24,24) #Target_size\n",
    "train_batch= generator('train',shuffle=True, batch_size=BS,target_size=TS)\n",
    "valid_batch= generator('test',shuffle=True, batch_size=BS,target_size=TS)\n",
    "SPE= len(train_batch.classes)//BS #Steps_per_Epochs\n",
    "VS = len(valid_batch.classes)//BS #Validation_size\n",
    "print(SPE,VS)\n"
   ]
  },
  {
   "cell_type": "code",
   "execution_count": 16,
   "id": "6819d630",
   "metadata": {},
   "outputs": [],
   "source": [
    "model = Sequential([\n",
    "    \n",
    "    Conv2D(32, kernel_size=(3, 3), activation='relu', input_shape=(24,24,1)),\n",
    "    MaxPooling2D(pool_size=(1,1)),\n",
    "    Conv2D(32,(3,3),activation='relu'),\n",
    "    MaxPooling2D(pool_size=(1,1)),\n",
    "#32 convolution filters used each of size 3x3\n",
    "#again\n",
    "    Conv2D(64, (3, 3), activation='relu'),\n",
    "    MaxPooling2D(pool_size=(1,1)),\n",
    "\n",
    "#64 convolution filters used each of size 3x3\n",
    "#choose the best features via pooling\n",
    "    \n",
    "#randomly turn neurons on and off to improve convergence\n",
    "    Dropout(0.25),\n",
    "#flatten since too many dimensions, we only want a classification output\n",
    "    Flatten(),\n",
    "#fully connected to get all relevant data\n",
    "    Dense(256, activation='relu'),\n",
    "    Dense(128, activation='relu'),\n",
    "    Dense(64, activation='relu'),\n",
    "#one more dropout for convergence' sake :) \n",
    "    Dropout(0.5),\n",
    "#output a softmax to squash the matrix into output probabilities\n",
    "    Dense(2, activation='softmax')\n",
    "])"
   ]
  },
  {
   "cell_type": "code",
   "execution_count": 17,
   "id": "82a6924d",
   "metadata": {},
   "outputs": [
    {
     "name": "stderr",
     "output_type": "stream",
     "text": [
      "<ipython-input-17-079e42ee3f17>:3: UserWarning: `Model.fit_generator` is deprecated and will be removed in a future version. Please use `Model.fit`, which supports generators.\n",
      "  retVal = model.fit_generator(train_batch, validation_data=valid_batch,epochs=20,steps_per_epoch=SPE ,validation_steps=VS)\n"
     ]
    },
    {
     "name": "stdout",
     "output_type": "stream",
     "text": [
      "Epoch 1/20\n",
      "38/38 [==============================] - 14s 315ms/step - loss: 0.4835 - accuracy: 0.7820 - val_loss: 0.2264 - val_accuracy: 0.9219\n",
      "Epoch 2/20\n",
      "38/38 [==============================] - 12s 309ms/step - loss: 0.2367 - accuracy: 0.9151 - val_loss: 0.2627 - val_accuracy: 0.8646\n",
      "Epoch 3/20\n",
      "38/38 [==============================] - 11s 299ms/step - loss: 0.1901 - accuracy: 0.9334 - val_loss: 0.1100 - val_accuracy: 0.9583\n",
      "Epoch 4/20\n",
      "38/38 [==============================] - 12s 310ms/step - loss: 0.1032 - accuracy: 0.9626 - val_loss: 0.1101 - val_accuracy: 0.9531\n",
      "Epoch 5/20\n",
      "38/38 [==============================] - 13s 336ms/step - loss: 0.1000 - accuracy: 0.9676 - val_loss: 0.0855 - val_accuracy: 0.9635\n",
      "Epoch 6/20\n",
      "38/38 [==============================] - 12s 305ms/step - loss: 0.0760 - accuracy: 0.9717 - val_loss: 0.0830 - val_accuracy: 0.9635\n",
      "Epoch 7/20\n",
      "38/38 [==============================] - 12s 319ms/step - loss: 0.0292 - accuracy: 0.9875 - val_loss: 0.1077 - val_accuracy: 0.9740\n",
      "Epoch 8/20\n",
      "38/38 [==============================] - 14s 364ms/step - loss: 0.0248 - accuracy: 0.9900 - val_loss: 0.1705 - val_accuracy: 0.9635\n",
      "Epoch 9/20\n",
      "38/38 [==============================] - 12s 317ms/step - loss: 0.0236 - accuracy: 0.9900 - val_loss: 0.1037 - val_accuracy: 0.9635\n",
      "Epoch 10/20\n",
      "38/38 [==============================] - 12s 314ms/step - loss: 0.0503 - accuracy: 0.9842 - val_loss: 0.0444 - val_accuracy: 0.9844\n",
      "Epoch 11/20\n",
      "38/38 [==============================] - 11s 296ms/step - loss: 0.0320 - accuracy: 0.9892 - val_loss: 0.0815 - val_accuracy: 0.9688\n",
      "Epoch 12/20\n",
      "38/38 [==============================] - 5s 132ms/step - loss: 0.0211 - accuracy: 0.9910 - val_loss: 0.0942 - val_accuracy: 0.9792\n",
      "Epoch 13/20\n",
      "38/38 [==============================] - 6s 145ms/step - loss: 0.0275 - accuracy: 0.9908 - val_loss: 0.1679 - val_accuracy: 0.9583\n",
      "Epoch 14/20\n",
      "38/38 [==============================] - 5s 142ms/step - loss: 0.0326 - accuracy: 0.9925 - val_loss: 0.1178 - val_accuracy: 0.9740\n",
      "Epoch 15/20\n",
      "38/38 [==============================] - 5s 139ms/step - loss: 0.0137 - accuracy: 0.9925 - val_loss: 0.1467 - val_accuracy: 0.9583\n",
      "Epoch 16/20\n",
      "38/38 [==============================] - 5s 135ms/step - loss: 0.0080 - accuracy: 0.9958 - val_loss: 0.1119 - val_accuracy: 0.9635\n",
      "Epoch 17/20\n",
      "38/38 [==============================] - 5s 129ms/step - loss: 0.0262 - accuracy: 0.9884 - val_loss: 0.1268 - val_accuracy: 0.9635\n",
      "Epoch 18/20\n",
      "38/38 [==============================] - 5s 130ms/step - loss: 0.0136 - accuracy: 0.9950 - val_loss: 0.0743 - val_accuracy: 0.9792\n",
      "Epoch 19/20\n",
      "38/38 [==============================] - 5s 127ms/step - loss: 0.0088 - accuracy: 0.9967 - val_loss: 0.1541 - val_accuracy: 0.9740\n",
      "Epoch 20/20\n",
      "38/38 [==============================] - 5s 140ms/step - loss: 0.0075 - accuracy: 0.9967 - val_loss: 0.1043 - val_accuracy: 0.9688\n"
     ]
    }
   ],
   "source": [
    "model.compile(optimizer='adam',loss='categorical_crossentropy',metrics=['accuracy'])\n",
    "\n",
    "retVal = model.fit_generator(train_batch, validation_data=valid_batch,epochs=20,steps_per_epoch=SPE ,validation_steps=VS)\n",
    "\n",
    "model.save('models/cnnCat2.h5', overwrite=True)"
   ]
  },
  {
   "cell_type": "code",
   "execution_count": null,
   "id": "ee96b18c",
   "metadata": {},
   "outputs": [],
   "source": []
  },
  {
   "cell_type": "code",
   "execution_count": 18,
   "id": "0497ce9e",
   "metadata": {},
   "outputs": [
    {
     "data": {
      "image/png": "[encoded data removed]",
      "text/plain": [
       "<Figure size 432x288 with 1 Axes>"
      ]
     },
     "metadata": {
      "needs_background": "light"
     },
     "output_type": "display_data"
    }
   ],
   "source": [
    "plt.plot(retVal.history['loss'])\n",
    "plt.plot(retVal.history['val_loss'])\n",
    "plt.title('Model loss')\n",
    "plt.ylabel('Loss')\n",
    "plt.xlabel('Epoch')\n",
    "plt.legend(['Train', 'Val'], loc='upper right')\n",
    "plt.show()"
   ]
  },
  {
   "cell_type": "code",
   "execution_count": 19,
   "id": "6a8e31e1",
   "metadata": {},
   "outputs": [
    {
     "data": {
      "image/png": "[encoded data removed]",
      "text/plain": [
       "<Figure size 432x288 with 1 Axes>"
      ]
     },
     "metadata": {
      "needs_background": "light"
     },
     "output_type": "display_data"
    }
   ],
   "source": [
    "plt.plot(retVal.history['accuracy'])\n",
    "plt.plot(retVal.history['val_accuracy'])\n",
    "plt.title('Model accuracy')\n",
    "plt.ylabel('Accuracy')\n",
    "plt.xlabel('Epoch')\n",
    "plt.legend(['Train', 'Val'], loc='lower right')\n",
    "plt.show()"
   ]
  },
  {
   "cell_type": "code",
   "execution_count": 44,
   "id": "59ae37de",
   "metadata": {},
   "outputs": [],
   "source": [
    "my_image = plt.imread(\"image0.jpg\")"
   ]
  },
  {
   "cell_type": "code",
   "execution_count": 45,
   "id": "4e2104ee",
   "metadata": {},
   "outputs": [],
   "source": [
    "from skimage.transform import resize\n",
    "my_image_resized = resize(my_image, (24,24,1))"
   ]
  },
  {
   "cell_type": "code",
   "execution_count": 46,
   "id": "2b680fd0",
   "metadata": {},
   "outputs": [
    {
     "data": {
      "image/png": "[encoded data removed]",
      "text/plain": [
       "<Figure size 432x288 with 1 Axes>"
      ]
     },
     "metadata": {
      "needs_background": "light"
     },
     "output_type": "display_data"
    }
   ],
   "source": [
    "img = plt.imshow(my_image_resized)"
   ]
  },
  {
   "cell_type": "code",
   "execution_count": 47,
   "id": "f03827c7",
   "metadata": {},
   "outputs": [],
   "source": [
    "import numpy as np\n",
    "probabilities = model.predict(np.array([my_image_resized,]))"
   ]
  },
  {
   "cell_type": "code",
   "execution_count": 48,
   "id": "e08c4320",
   "metadata": {},
   "outputs": [
    {
     "data": {
      "text/plain": [
       "array([[0.02683785, 0.9731621 ]], dtype=float32)"
      ]
     },
     "execution_count": 48,
     "metadata": {},
     "output_type": "execute_result"
    }
   ],
   "source": [
    "probabilities"
   ]
  },
  {
   "cell_type": "code",
   "execution_count": 49,
   "id": "951df011",
   "metadata": {},
   "outputs": [
    {
     "name": "stdout",
     "output_type": "stream",
     "text": [
      "Fourth most likely class: closed -- Probability: 0.026837854\n",
      "Fourth most likely class: open -- Probability: 0.9731621\n"
     ]
    }
   ],
   "source": [
    "number_to_class = ['closed','open']\n",
    "index = np.argsort(probabilities[0,:])\n",
    "print(\"Fourth most likely class:\", number_to_class[index[0]], \"-- Probability:\", probabilities[0,index[0]])\n",
    "print(\"Fourth most likely class:\", number_to_class[index[1]], \"-- Probability:\", probabilities[0,index[1]])\n"
   ]
  },
  {
   "cell_type": "code",
   "execution_count": null,
   "id": "8166d9af",
   "metadata": {},
   "outputs": [],
   "source": []
  },
  {
   "cell_type": "code",
   "execution_count": null,
   "id": "1f3b6d2a",
   "metadata": {},
   "outputs": [],
   "source": []
  }
 ],
 "metadata": {
  "kernelspec": {
   "display_name": "Python 3 (ipykernel)",
   "language": "python",
   "name": "python3"
  },
  "language_info": {
   "codemirror_mode": {
    "name": "ipython",
    "version": 3
   },
   "file_extension": ".py",
   "mimetype": "text/x-python",
   "name": "python",
   "nbconvert_exporter": "python",
   "pygments_lexer": "ipython3",
   "version": "3.9.2"
  }
 },
 "nbformat": 4,
 "nbformat_minor": 5
}
